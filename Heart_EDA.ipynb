{
 "cells": [
  {
   "cell_type": "markdown",
   "id": "66230208",
   "metadata": {},
   "source": [
    "# Exploratory Data Analysis"
   ]
  },
  {
   "cell_type": "code",
   "execution_count": null,
   "id": "ef56ddb6",
   "metadata": {},
   "outputs": [],
   "source": [
    "import numpy as np\n",
    "import pandas as pd\n",
    "import seaborn as sns\n",
    "import matplotlib.pyplot as plt"
   ]
  },
  {
   "cell_type": "code",
   "execution_count": null,
   "id": "d4728ce0",
   "metadata": {},
   "outputs": [],
   "source": [
    "df = pd.read_csv('heart.csv')\n",
    "df.head()"
   ]
  },
  {
   "cell_type": "code",
   "execution_count": null,
   "id": "b4351a55",
   "metadata": {},
   "outputs": [],
   "source": [
    "df.info()"
   ]
  },
  {
   "cell_type": "code",
   "execution_count": null,
   "id": "b264ee2e",
   "metadata": {},
   "outputs": [],
   "source": [
    "df.isnull().sum()"
   ]
  },
  {
   "cell_type": "code",
   "execution_count": null,
   "id": "cbf2fbc0",
   "metadata": {},
   "outputs": [],
   "source": [
    "df.shape\n",
    "df.describe()"
   ]
  },
  {
   "cell_type": "markdown",
   "id": "45289c6b",
   "metadata": {},
   "source": [
    "## Visualizing Data"
   ]
  },
  {
   "cell_type": "code",
   "execution_count": null,
   "id": "168488ef",
   "metadata": {},
   "outputs": [],
   "source": [
    "df['HeartDisease'].value_counts().plot(kind='bar')"
   ]
  },
  {
   "cell_type": "code",
   "execution_count": null,
   "id": "8f8a23df",
   "metadata": {},
   "outputs": [],
   "source": [
    "def plotting(var,num=1):\n",
    "    plt.subplot(2,2,num)\n",
    "    sns.histplot(x=df[var], kde=True)\n",
    "    plt.tight_layout()"
   ]
  },
  {
   "cell_type": "code",
   "execution_count": null,
   "id": "3297f4e6",
   "metadata": {},
   "outputs": [],
   "source": [
    "df.head(10)"
   ]
  },
  {
   "cell_type": "code",
   "execution_count": null,
   "id": "8740cc72",
   "metadata": {},
   "outputs": [],
   "source": [
    "plotting('Age', 1)\n",
    "plotting('RestingBP',2)\n",
    "plotting('Cholesterol',3)\n",
    "plotting('MaxHR',4)"
   ]
  },
  {
   "cell_type": "code",
   "execution_count": null,
   "id": "340f419e",
   "metadata": {},
   "outputs": [],
   "source": [
    "df['Cholesterol'].value_counts()"
   ]
  },
  {
   "cell_type": "markdown",
   "id": "df760fed",
   "metadata": {},
   "source": [
    "## Correcting the Data"
   ]
  },
  {
   "cell_type": "code",
   "execution_count": null,
   "id": "6373825b",
   "metadata": {},
   "outputs": [],
   "source": [
    "ch_mean = df.loc[df['Cholesterol'] !=0, 'Cholesterol'].mean()\n",
    "df['Cholesterol'] = df['Cholesterol'].replace(0,ch_mean)\n",
    "df['Cholesterol'] = df['Cholesterol'].round(2)"
   ]
  },
  {
   "cell_type": "code",
   "execution_count": null,
   "id": "c7744721",
   "metadata": {},
   "outputs": [],
   "source": [
    "rbp_mean = df.loc[df['RestingBP'] !=0, 'RestingBP'].mean()\n",
    "df['RestingBP'] = df['RestingBP'].replace(0, rbp_mean)\n",
    "df['RestingBP'] = df['RestingBP'].round(2)"
   ]
  },
  {
   "cell_type": "code",
   "execution_count": null,
   "id": "66d59be3",
   "metadata": {},
   "outputs": [],
   "source": [
    "plotting('Age', 1)\n",
    "plotting('RestingBP',2)\n",
    "plotting('Cholesterol',3)\n",
    "plotting('MaxHR',4)"
   ]
  },
  {
   "cell_type": "code",
   "execution_count": null,
   "id": "e6f25e84",
   "metadata": {},
   "outputs": [],
   "source": [
    "cat_cols = ['Sex', 'ChestPainType', 'FastingBS','RestingECG', 'ExerciseAngina', 'Oldpeak', 'ST_Slope','HeartDisease']\n",
    "\n",
    "cat_cols"
   ]
  },
  {
   "cell_type": "markdown",
   "id": "2dd25f18",
   "metadata": {},
   "source": [
    "## Visualizing The Corrected Data"
   ]
  },
  {
   "cell_type": "code",
   "execution_count": null,
   "id": "0c040e8f",
   "metadata": {},
   "outputs": [],
   "source": [
    "sns.countplot(x=df['Sex'], hue=df['HeartDisease'])"
   ]
  },
  {
   "cell_type": "code",
   "execution_count": null,
   "id": "9885d197",
   "metadata": {},
   "outputs": [],
   "source": [
    "sns.countplot(x=df['ChestPainType'], hue=df['HeartDisease'])"
   ]
  },
  {
   "cell_type": "code",
   "execution_count": null,
   "id": "785803f8",
   "metadata": {},
   "outputs": [],
   "source": [
    "sns.countplot(x=df['FastingBS'], hue=df['HeartDisease'])"
   ]
  },
  {
   "cell_type": "code",
   "execution_count": null,
   "id": "b5438690",
   "metadata": {},
   "outputs": [],
   "source": [
    "sns.boxplot(y=df['Cholesterol'], x=df['HeartDisease'])"
   ]
  },
  {
   "cell_type": "code",
   "execution_count": null,
   "id": "a3fd66a7",
   "metadata": {},
   "outputs": [],
   "source": [
    "sns.heatmap(df.corr(numeric_only=True), annot=True)"
   ]
  },
  {
   "cell_type": "markdown",
   "id": "a30b1ecf",
   "metadata": {},
   "source": [
    "## Data Preprocessing\n"
   ]
  },
  {
   "cell_type": "code",
   "execution_count": null,
   "id": "70afe204",
   "metadata": {},
   "outputs": [],
   "source": [
    "df_encoded = pd.get_dummies(df, drop_first=True)\n",
    "df_encoded = df_encoded.astype(int)"
   ]
  },
  {
   "cell_type": "code",
   "execution_count": null,
   "id": "28f5befd",
   "metadata": {},
   "outputs": [],
   "source": [
    "from sklearn.preprocessing import StandardScaler\n",
    "\n",
    "scaler = StandardScaler()\n",
    "\n",
    "numerical_rows = ['Age', 'RestingBP', 'Cholesterol', 'MaxHR', 'Oldpeak']\n",
    "\n",
    "df_encoded[numerical_rows] = scaler.fit_transform(df_encoded[numerical_rows])\n",
    "df_encoded.head()\n"
   ]
  }
 ],
 "metadata": {
  "kernelspec": {
   "display_name": "venv",
   "language": "python",
   "name": "python3"
  },
  "language_info": {
   "codemirror_mode": {
    "name": "ipython",
    "version": 3
   },
   "file_extension": ".py",
   "mimetype": "text/x-python",
   "name": "python",
   "nbconvert_exporter": "python",
   "pygments_lexer": "ipython3",
   "version": "3.13.1"
  }
 },
 "nbformat": 4,
 "nbformat_minor": 5
}
