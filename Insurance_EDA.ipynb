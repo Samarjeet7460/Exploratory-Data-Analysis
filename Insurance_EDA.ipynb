{
 "cells": [
  {
   "cell_type": "markdown",
   "id": "e5f68080",
   "metadata": {},
   "source": [
    "## Exploratory Data Analysis"
   ]
  },
  {
   "cell_type": "code",
   "execution_count": null,
   "id": "217e8961",
   "metadata": {},
   "outputs": [],
   "source": [
    "import numpy as np \n",
    "import pandas as pd\n",
    "import seaborn as sns\n",
    "import matplotlib.pyplot as plt\n",
    "import warnings\n",
    "from sklearn.preprocessing import StandardScaler\n",
    "\n",
    "warnings.filterwarnings('ignore')"
   ]
  },
  {
   "cell_type": "code",
   "execution_count": null,
   "id": "6ee7b6c5",
   "metadata": {},
   "outputs": [],
   "source": [
    "df = pd.read_csv('insurance.csv')"
   ]
  },
  {
   "cell_type": "code",
   "execution_count": null,
   "id": "1ace9fd8",
   "metadata": {},
   "outputs": [],
   "source": [
    "df.info()\n",
    "df.isnull().sum()"
   ]
  },
  {
   "cell_type": "code",
   "execution_count": null,
   "id": "02529403",
   "metadata": {},
   "outputs": [],
   "source": [
    "df.describe()"
   ]
  },
  {
   "cell_type": "code",
   "execution_count": null,
   "id": "b7feeb4a",
   "metadata": {},
   "outputs": [],
   "source": [
    "cols = ['age', 'bmi', 'children', 'charges']\n",
    "\n",
    "for col in cols:\n",
    "    plt.figure(figsize=(6,4))\n",
    "    sns.histplot(df[col], kde=True, bins=20)"
   ]
  },
  {
   "cell_type": "code",
   "execution_count": null,
   "id": "8b56b829",
   "metadata": {},
   "outputs": [],
   "source": [
    "sns.countplot(x=df['sex'])"
   ]
  },
  {
   "cell_type": "code",
   "execution_count": null,
   "id": "c88da239",
   "metadata": {},
   "outputs": [],
   "source": [
    "sns.countplot(x=df['smoker'])"
   ]
  },
  {
   "cell_type": "code",
   "execution_count": null,
   "id": "a556bd48",
   "metadata": {},
   "outputs": [],
   "source": [
    "for col in cols:\n",
    "    plt.figure(figsize=(6,4))\n",
    "    sns.boxplot(x=df[col])"
   ]
  },
  {
   "cell_type": "code",
   "execution_count": null,
   "id": "9f03af57",
   "metadata": {},
   "outputs": [],
   "source": [
    "sns.heatmap(df.corr(numeric_only=True), annot=True)"
   ]
  },
  {
   "cell_type": "markdown",
   "id": "eb1b2a83",
   "metadata": {},
   "source": [
    "## Data cleaning and preprocesing"
   ]
  },
  {
   "cell_type": "code",
   "execution_count": null,
   "id": "13905a57",
   "metadata": {},
   "outputs": [],
   "source": [
    "df_cleaned = df.copy()"
   ]
  },
  {
   "cell_type": "code",
   "execution_count": null,
   "id": "9b764608",
   "metadata": {},
   "outputs": [],
   "source": [
    "df_cleaned.shape"
   ]
  },
  {
   "cell_type": "code",
   "execution_count": null,
   "id": "e5e6ed5f",
   "metadata": {},
   "outputs": [],
   "source": [
    "df_cleaned.drop_duplicates(inplace=True)"
   ]
  },
  {
   "cell_type": "code",
   "execution_count": null,
   "id": "7840f959",
   "metadata": {},
   "outputs": [],
   "source": [
    "df_cleaned.shape"
   ]
  },
  {
   "cell_type": "code",
   "execution_count": null,
   "id": "05b403e2",
   "metadata": {},
   "outputs": [],
   "source": [
    "df_cleaned.isnull().sum()"
   ]
  },
  {
   "cell_type": "code",
   "execution_count": null,
   "id": "52b8ffd8",
   "metadata": {},
   "outputs": [],
   "source": [
    "df_cleaned.dtypes"
   ]
  },
  {
   "cell_type": "code",
   "execution_count": null,
   "id": "b017b1c5",
   "metadata": {},
   "outputs": [],
   "source": [
    "df_cleaned['sex'].value_counts()"
   ]
  },
  {
   "cell_type": "code",
   "execution_count": null,
   "id": "66ca7756",
   "metadata": {},
   "outputs": [],
   "source": [
    "df_cleaned['sex'] = df_cleaned['sex'].map({'male': 0, 'female' : 1})"
   ]
  },
  {
   "cell_type": "code",
   "execution_count": null,
   "id": "f8f5fa0d",
   "metadata": {},
   "outputs": [],
   "source": [
    "df_cleaned['smoker'] = df_cleaned['smoker'].map({'yes' : 1, 'no' : 0})"
   ]
  },
  {
   "cell_type": "code",
   "execution_count": null,
   "id": "f49b54f0",
   "metadata": {},
   "outputs": [],
   "source": [
    "df_cleaned.rename(columns={\n",
    "    'sex' : 'is_female',\n",
    "    'smoker' : 'is_smoker'\n",
    "}, inplace=True)"
   ]
  },
  {
   "cell_type": "code",
   "execution_count": null,
   "id": "d94eea48",
   "metadata": {},
   "outputs": [],
   "source": [
    "df_cleaned['region'].value_counts()"
   ]
  },
  {
   "cell_type": "code",
   "execution_count": null,
   "id": "a7f9108f",
   "metadata": {},
   "outputs": [],
   "source": [
    "df_cleaned = pd.get_dummies(df_cleaned, columns=['region'], drop_first=True)"
   ]
  },
  {
   "cell_type": "code",
   "execution_count": null,
   "id": "b52f31b6",
   "metadata": {},
   "outputs": [],
   "source": [
    "df_cleaned = df_cleaned.astype(int)"
   ]
  },
  {
   "cell_type": "code",
   "execution_count": null,
   "id": "eaf2fbb4",
   "metadata": {},
   "outputs": [],
   "source": [
    "df_cleaned"
   ]
  },
  {
   "cell_type": "markdown",
   "id": "38c5b3b7",
   "metadata": {},
   "source": [
    "## Feature Engineering and Extraction"
   ]
  },
  {
   "cell_type": "code",
   "execution_count": null,
   "id": "da47b13d",
   "metadata": {},
   "outputs": [],
   "source": [
    "sns.histplot(x=df_cleaned['bmi'], kde=True)"
   ]
  },
  {
   "cell_type": "code",
   "execution_count": null,
   "id": "c59f5840",
   "metadata": {},
   "outputs": [],
   "source": [
    "df_cleaned['bmi_category'] = pd.cut(\n",
    "    df_cleaned['bmi'],\n",
    "    bins=[0, 18.5, 24.9, 29.9, float('inf')],\n",
    "    labels=['Underweight','Normal', 'Overweight', 'Obese']\n",
    ")"
   ]
  },
  {
   "cell_type": "code",
   "execution_count": null,
   "id": "77f59e59",
   "metadata": {},
   "outputs": [],
   "source": [
    "df_cleaned = pd.get_dummies(df_cleaned, columns=['bmi_category'], drop_first=True)"
   ]
  },
  {
   "cell_type": "code",
   "execution_count": null,
   "id": "bdbd92d9",
   "metadata": {},
   "outputs": [],
   "source": [
    "df_cleaned = df_cleaned.astype(int)"
   ]
  },
  {
   "cell_type": "code",
   "execution_count": null,
   "id": "00becc56",
   "metadata": {},
   "outputs": [],
   "source": [
    "scaler = StandardScaler()\n",
    "cols = ['age', 'bmi', 'children']\n",
    "\n",
    "df_cleaned[cols] = scaler.fit_transform(df_cleaned[cols])"
   ]
  },
  {
   "cell_type": "code",
   "execution_count": null,
   "id": "ff60b587",
   "metadata": {},
   "outputs": [],
   "source": [
    "df_cleaned.head()"
   ]
  },
  {
   "cell_type": "code",
   "execution_count": null,
   "id": "82f89543",
   "metadata": {},
   "outputs": [],
   "source": [
    "from scipy.stats import pearsonr\n",
    "\n",
    "selected_features = ['age', 'is_female', 'bmi', 'children', 'is_smoker', 'charges', \n",
    "                    'region_northwest', 'region_southeast', 'region_southwest',\n",
    "                    'bmi_category_Normal', 'bmi_category_Overweight', 'bmi_category_Obese']\n",
    "\n",
    "correlation = {\n",
    "    feature : pearsonr(df_cleaned[feature], df_cleaned['charges'])[0]\n",
    "    for feature in selected_features\n",
    "}\n",
    "\n",
    "correlation_df = pd.DataFrame(list(correlation.items()), columns=['Feature', 'Pearson_Column'])\n",
    "\n",
    "correlation_df.sort_values(by='Pearson_Column' ,ascending=False)"
   ]
  },
  {
   "cell_type": "code",
   "execution_count": null,
   "id": "620fd295",
   "metadata": {},
   "outputs": [],
   "source": [
    "cat_features = ['is_female', 'is_smoker', \n",
    "                    'region_northwest', 'region_southeast', 'region_southwest',\n",
    "                    'bmi_category_Normal', 'bmi_category_Overweight', 'bmi_category_Obese']"
   ]
  },
  {
   "cell_type": "code",
   "execution_count": null,
   "id": "cc2f06a4",
   "metadata": {},
   "outputs": [],
   "source": [
    "from scipy.stats import chi2_contingency\n",
    "alpha = 0.05\n",
    "\n",
    "df_cleaned['charges_bin'] = pd.qcut(df_cleaned['charges'], q=4, labels=False)\n",
    "chi2_results = {}\n",
    "\n",
    "for col in cat_features:\n",
    "    contingency = pd.crosstab(df_cleaned[col], df_cleaned['charges_bin'])\n",
    "    chi2_stat, p_val, _, _ = chi2_contingency(contingency)\n",
    "    decision = 'Reject Null (Keep Feature)' if p_val < alpha else 'Accept Null (Drop Feature)'\n",
    "    chi2_results[col] = {\n",
    "        'chi2_statistic': chi2_stat,\n",
    "        'p_value': p_val,\n",
    "        'Decision': decision\n",
    "    }\n",
    "\n",
    "chi2_df = pd.DataFrame(chi2_results).T\n",
    "chi2_df = chi2_df.sort_values(by='p_value')\n",
    "chi2_df"
   ]
  },
  {
   "cell_type": "code",
   "execution_count": null,
   "id": "71b4bd9c",
   "metadata": {},
   "outputs": [],
   "source": [
    "final_df = df_cleaned[['age', 'is_female', 'bmi', 'children', 'is_smoker', 'charges',    'region_southeast', 'bmi_category_Obese']]\n",
    "\n",
    "final_df.head(10)"
   ]
  }
 ],
 "metadata": {
  "kernelspec": {
   "display_name": "venv",
   "language": "python",
   "name": "python3"
  },
  "language_info": {
   "codemirror_mode": {
    "name": "ipython",
    "version": 3
   },
   "file_extension": ".py",
   "mimetype": "text/x-python",
   "name": "python",
   "nbconvert_exporter": "python",
   "pygments_lexer": "ipython3",
   "version": "3.13.1"
  }
 },
 "nbformat": 4,
 "nbformat_minor": 5
}
